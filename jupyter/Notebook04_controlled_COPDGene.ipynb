{
 "cells": [
  {
   "cell_type": "markdown",
   "id": "9d1c5fb6",
   "metadata": {},
   "source": [
    "## dbGaP FHIR Notebooks - Exercise 4\n",
    "\n",
    "In this exercise, you will query the dbGaP study \"Genetic Epidemiology of COPD (COPDGene)\". \n",
    "\n",
    "The study investigates Chronic Obstructive Pulmonary Disease.\n",
    "\n",
    "The dbGaP id for the study is phs000179.\n",
    "\n",
    "Note: You can use this notebook with other dbGaP studies to which you have access. Some queries will need to be adjusted to the specifics of any study that you use.\n",
    "\n",
    "### Learning Objectives and Key Concepts\n",
    "\n",
    "- Query controlled access data using RAS\n",
    "- Show data summaries\n",
    "- Some understanding of resources that help understand the data in dbGaP studies\n",
    "- Use a heatmap to give high level view of data per patient\n",
    "\n",
    "## Motivation/Purpose\n",
    "To make use of convenience functions to access a FHIR server, and to understand authorization methods specific to dbGaP\n",
    "\n",
    "## Requisites\n",
    "- Data Access to the COPDGene study\n",
    " -You must have been granted access to one or more dbGaP studies.\n",
    "- Python\n",
    " -matplotlib\n",
    "\n",
    " ### Icons in this Guide\n",
    " 📘 A link to a useful external reference related to the section the icon appears in  \n",
    "\n",
    " 🖐 A hands-on section where you will code something or interact with the server  "
   ]
  },
  {
   "cell_type": "markdown",
   "id": "0b587755",
   "metadata": {},
   "source": [
    "For functional purposes working with a controlled access study is identical to the examples already shown. The differences are:\n",
    "- Passing a RAS token which contains authorization for the dbGaP studies you have access to \n",
    "- Active steps to ensure the data are used within the Data Use Conditions you have agreed to for the datasets\n",
    "\n",
    "FHIR security as described by HL7 deals with passing credentials in the request header. The standard RAS GA4GH Passport 1.2 standard passports are too large to be included in a header. Therefore a mechanism to obtain a smaller Task Specific Token (TST) has been created.\n",
    "\n",
    "📘 Notes on FHIR security\n",
    "\n",
    "The TST mechanism uses the central NIH RAS service for authentication, but then provides a smaller token. Use of this mechanism is not described here.\n",
    "\n",
    "Typically the token is delivered to the Downloads folder by the web browser a user has used to visit the TST site.\n",
    "\n",
    "For simplification the DbGapFHIR class handles adding the token to all requests it makes.\n",
    "\n",
    "#TODO - a separate notebook explaining at lower level how to use the requests module to pass the TST."
   ]
  },
  {
   "cell_type": "code",
   "execution_count": 75,
   "id": "4b6595ac",
   "metadata": {},
   "outputs": [],
   "source": [
    "from dbgap_fhir import DbGapFHIR\n",
    "import os\n",
    "API_KEY_PATH = '~/.keys/ncbi_api_key.txt'\n",
    "FHIR_SERVER = 'https://dbgap-api.ncbi.nlm.nih.gov/fhir/x1'\n",
    "\n",
    "with open(os.path.expanduser(API_KEY_PATH)) as f:  \n",
    "    api_key = f.read()\n",
    "    \n",
    "mf = DbGapFHIR(FHIR_SERVER,\n",
    "           api_key=api_key,\n",
    "           passport='~/Downloads/task-specific-token.txt')\n"
   ]
  },
  {
   "cell_type": "markdown",
   "id": "80e4367e",
   "metadata": {},
   "source": [
    "### Subjects in a Research Study\n",
    "In this example we start with the dbGaP id for the COPDGene study; phs000179\n",
    "\n",
    "As in Notebook 3 we can query for Patients registered to the study."
   ]
  },
  {
   "cell_type": "code",
   "execution_count": 3,
   "id": "f81b94aa",
   "metadata": {},
   "outputs": [
    {
     "name": "stdout",
     "output_type": "stream",
     "text": [
      "trying again\n",
      "took 2 tries\n",
      "Total  Resources: 10368\n",
      "Total  Bytes: 4596302\n",
      "Total  Pages: 42\n",
      "Time elapsed 254.2133 seconds\n"
     ]
    }
   ],
   "source": [
    "study_id = 'phs000179'\n",
    "\n",
    "patients = mf.run_query(f\"Patient?_has:ResearchSubject:individual:study={study_id}&_count=250\")"
   ]
  },
  {
   "cell_type": "code",
   "execution_count": 4,
   "id": "19519cc0",
   "metadata": {},
   "outputs": [
    {
     "data": {
      "text/plain": [
       "{'resourceType': 'Patient',\n",
       " 'id': '432602',\n",
       " 'meta': {'tag': [{'system': 'https://dbgap-api.ncbi.nlm.nih.gov/fhir/x1/CodeSystem/DbGaP-Backend-Source',\n",
       "    'code': 'Nitro',\n",
       "    'display': 'Resource served by Nitro backend.'}]},\n",
       " 'identifier': [{'id': '432602',\n",
       "   'system': 'https://dbgap-api.ncbi.nlm.nih.gov/fhir/x1/CodeSystem/DbGaPConcept-DbGaPSubjectIdentifier'}],\n",
       " 'gender': 'unknown'}"
      ]
     },
     "execution_count": 4,
     "metadata": {},
     "output_type": "execute_result"
    }
   ],
   "source": [
    "patients[812]"
   ]
  },
  {
   "cell_type": "markdown",
   "id": "563239a5",
   "metadata": {},
   "source": [
    "### How RAS affects query results from the FHIR server\n",
    "\n",
    "For any query to which access is contolled by a RAS token the server will only return resources that you have access to.\n",
    "\n",
    "* The same query by two different users will give different results\n",
    "* The same user using two tokens  which authorize access for different sets of studies will give different results \n",
    "\n",
    "\n",
    "\n",
    "### Studies to which user has access\n",
    "One benefit of the above is to provide a simple way to confirm what studies FHIR and the token have provided you access to.\n",
    "\n",
    "In the following query Research subjects are selected based on their registration status on the study (status=on-study), and the query returns the studies to which they belong. Because access control is applied to the ResearchSubjects, only subjects from the studies to which the token authorizes access are returned."
   ]
  },
  {
   "cell_type": "code",
   "execution_count": 5,
   "id": "bfd6a505",
   "metadata": {},
   "outputs": [
    {
     "name": "stdout",
     "output_type": "stream",
     "text": [
      "Total  Resources: 31\n",
      "Total  Bytes: 823971\n",
      "Total  Pages: 1\n",
      "Time elapsed 10.0089 seconds\n"
     ]
    }
   ],
   "source": [
    "studies = mf.run_query(\"ResearchStudy?_has:ResearchSubject:study:status=on-study\")"
   ]
  },
  {
   "cell_type": "markdown",
   "id": "b4c64541",
   "metadata": {},
   "source": [
    "We can do a simple conversion of the FHIR resources returned in the query to a Dataframe as follows."
   ]
  },
  {
   "cell_type": "code",
   "execution_count": 6,
   "id": "6fee7973",
   "metadata": {},
   "outputs": [
    {
     "data": {
      "text/html": [
       "<div>\n",
       "<style scoped>\n",
       "    .dataframe tbody tr th:only-of-type {\n",
       "        vertical-align: middle;\n",
       "    }\n",
       "\n",
       "    .dataframe tbody tr th {\n",
       "        vertical-align: top;\n",
       "    }\n",
       "\n",
       "    .dataframe thead th {\n",
       "        text-align: right;\n",
       "    }\n",
       "</style>\n",
       "<table border=\"1\" class=\"dataframe\">\n",
       "  <thead>\n",
       "    <tr style=\"text-align: right;\">\n",
       "      <th></th>\n",
       "      <th>id</th>\n",
       "      <th>title</th>\n",
       "    </tr>\n",
       "  </thead>\n",
       "  <tbody>\n",
       "    <tr>\n",
       "      <th>25</th>\n",
       "      <td>phs000178</td>\n",
       "      <td>The Cancer Genome Atlas (TCGA)</td>\n",
       "    </tr>\n",
       "    <tr>\n",
       "      <th>12</th>\n",
       "      <td>phs000179</td>\n",
       "      <td>Genetic Epidemiology of COPD (COPDGene)</td>\n",
       "    </tr>\n",
       "    <tr>\n",
       "      <th>1</th>\n",
       "      <td>phs000209</td>\n",
       "      <td>Multi-Ethnic Study of Atherosclerosis (MESA) C...</td>\n",
       "    </tr>\n",
       "    <tr>\n",
       "      <th>30</th>\n",
       "      <td>phs000235</td>\n",
       "      <td>National Cancer Institute Cancer Genome Charac...</td>\n",
       "    </tr>\n",
       "    <tr>\n",
       "      <th>0</th>\n",
       "      <td>phs000614</td>\n",
       "      <td>Genomic Analysis of Pediatric Low Grade Gliomas</td>\n",
       "    </tr>\n",
       "    <tr>\n",
       "      <th>22</th>\n",
       "      <td>phs000748</td>\n",
       "      <td>Multiple Myeloma CoMMpass Study</td>\n",
       "    </tr>\n",
       "    <tr>\n",
       "      <th>2</th>\n",
       "      <td>phs000794</td>\n",
       "      <td>Longitudinal Genome-Wide Analysis of Patients ...</td>\n",
       "    </tr>\n",
       "    <tr>\n",
       "      <th>8</th>\n",
       "      <td>phs000892</td>\n",
       "      <td>CPTAC Proteogenomic Confirmatory Study</td>\n",
       "    </tr>\n",
       "    <tr>\n",
       "      <th>27</th>\n",
       "      <td>phs000951</td>\n",
       "      <td>NHLBI TOPMed: Genetic Epidemiology of COPD (CO...</td>\n",
       "    </tr>\n",
       "    <tr>\n",
       "      <th>4</th>\n",
       "      <td>phs001054</td>\n",
       "      <td>Genomic Characterization of Pediatric Low-Grad...</td>\n",
       "    </tr>\n",
       "    <tr>\n",
       "      <th>3</th>\n",
       "      <td>phs001078</td>\n",
       "      <td>Common Variant GWAS, GECCO</td>\n",
       "    </tr>\n",
       "    <tr>\n",
       "      <th>21</th>\n",
       "      <td>phs001175</td>\n",
       "      <td>CTSP: Clinical Trial Sequencing Project</td>\n",
       "    </tr>\n",
       "    <tr>\n",
       "      <th>6</th>\n",
       "      <td>phs001179</td>\n",
       "      <td>Foundation Medicine Adult Cancer Clinical Data...</td>\n",
       "    </tr>\n",
       "    <tr>\n",
       "      <th>5</th>\n",
       "      <td>phs001228</td>\n",
       "      <td>Gabriella Miller Kids First (GMKF) Pediatric R...</td>\n",
       "    </tr>\n",
       "    <tr>\n",
       "      <th>29</th>\n",
       "      <td>phs001287</td>\n",
       "      <td>CPTAC 3 Study</td>\n",
       "    </tr>\n",
       "    <tr>\n",
       "      <th>7</th>\n",
       "      <td>phs001315</td>\n",
       "      <td>GECCO: Detecting Common and Rare Genetic Loci ...</td>\n",
       "    </tr>\n",
       "    <tr>\n",
       "      <th>26</th>\n",
       "      <td>phs001374</td>\n",
       "      <td>VA APOLLO Project - Research for Precision Onc...</td>\n",
       "    </tr>\n",
       "    <tr>\n",
       "      <th>10</th>\n",
       "      <td>phs001415</td>\n",
       "      <td>Uncovering the Genetic Architecture of Colorec...</td>\n",
       "    </tr>\n",
       "    <tr>\n",
       "      <th>11</th>\n",
       "      <td>phs001436</td>\n",
       "      <td>Discovering the Genetic Basis of Human Neurobl...</td>\n",
       "    </tr>\n",
       "    <tr>\n",
       "      <th>9</th>\n",
       "      <td>phs001437</td>\n",
       "      <td>Pediatric Preclinical Testing Consortium (PPTC)</td>\n",
       "    </tr>\n",
       "    <tr>\n",
       "      <th>24</th>\n",
       "      <td>phs001444</td>\n",
       "      <td>Genomic Variation in Diffuse Large B Cell Lymp...</td>\n",
       "    </tr>\n",
       "    <tr>\n",
       "      <th>23</th>\n",
       "      <td>phs001486</td>\n",
       "      <td>NCI Cancer Model Development for the Human Can...</td>\n",
       "    </tr>\n",
       "    <tr>\n",
       "      <th>13</th>\n",
       "      <td>phs001524</td>\n",
       "      <td>The Genetic Basis of Aggressive Prostate Cance...</td>\n",
       "    </tr>\n",
       "    <tr>\n",
       "      <th>15</th>\n",
       "      <td>phs001554</td>\n",
       "      <td>Detection of Colorectal Cancer Susceptibility ...</td>\n",
       "    </tr>\n",
       "    <tr>\n",
       "      <th>16</th>\n",
       "      <td>phs001611</td>\n",
       "      <td>Pancreas Cancer Organoid Profiling</td>\n",
       "    </tr>\n",
       "    <tr>\n",
       "      <th>17</th>\n",
       "      <td>phs001628</td>\n",
       "      <td>Clinical Crenolanib Resistance in AML</td>\n",
       "    </tr>\n",
       "    <tr>\n",
       "      <th>14</th>\n",
       "      <td>phs001657</td>\n",
       "      <td>Functional Genomic Landscape of Acute Myeloid ...</td>\n",
       "    </tr>\n",
       "    <tr>\n",
       "      <th>20</th>\n",
       "      <td>phs001713</td>\n",
       "      <td>LCCC 1108 (UNCseqTM)</td>\n",
       "    </tr>\n",
       "    <tr>\n",
       "      <th>19</th>\n",
       "      <td>phs001714</td>\n",
       "      <td>Kids First: Genomic Analysis of Treatment Fail...</td>\n",
       "    </tr>\n",
       "    <tr>\n",
       "      <th>18</th>\n",
       "      <td>phs001738</td>\n",
       "      <td>Kids First: Familial Predisposition to Hematop...</td>\n",
       "    </tr>\n",
       "    <tr>\n",
       "      <th>28</th>\n",
       "      <td>phs002409</td>\n",
       "      <td>FHIR Test Study's ALPHA</td>\n",
       "    </tr>\n",
       "  </tbody>\n",
       "</table>\n",
       "</div>"
      ],
      "text/plain": [
       "           id                                              title\n",
       "25  phs000178                     The Cancer Genome Atlas (TCGA)\n",
       "12  phs000179            Genetic Epidemiology of COPD (COPDGene)\n",
       "1   phs000209  Multi-Ethnic Study of Atherosclerosis (MESA) C...\n",
       "30  phs000235  National Cancer Institute Cancer Genome Charac...\n",
       "0   phs000614    Genomic Analysis of Pediatric Low Grade Gliomas\n",
       "22  phs000748                    Multiple Myeloma CoMMpass Study\n",
       "2   phs000794  Longitudinal Genome-Wide Analysis of Patients ...\n",
       "8   phs000892             CPTAC Proteogenomic Confirmatory Study\n",
       "27  phs000951  NHLBI TOPMed: Genetic Epidemiology of COPD (CO...\n",
       "4   phs001054  Genomic Characterization of Pediatric Low-Grad...\n",
       "3   phs001078                         Common Variant GWAS, GECCO\n",
       "21  phs001175            CTSP: Clinical Trial Sequencing Project\n",
       "6   phs001179  Foundation Medicine Adult Cancer Clinical Data...\n",
       "5   phs001228  Gabriella Miller Kids First (GMKF) Pediatric R...\n",
       "29  phs001287                                      CPTAC 3 Study\n",
       "7   phs001315  GECCO: Detecting Common and Rare Genetic Loci ...\n",
       "26  phs001374  VA APOLLO Project - Research for Precision Onc...\n",
       "10  phs001415  Uncovering the Genetic Architecture of Colorec...\n",
       "11  phs001436  Discovering the Genetic Basis of Human Neurobl...\n",
       "9   phs001437    Pediatric Preclinical Testing Consortium (PPTC)\n",
       "24  phs001444  Genomic Variation in Diffuse Large B Cell Lymp...\n",
       "23  phs001486  NCI Cancer Model Development for the Human Can...\n",
       "13  phs001524  The Genetic Basis of Aggressive Prostate Cance...\n",
       "15  phs001554  Detection of Colorectal Cancer Susceptibility ...\n",
       "16  phs001611                 Pancreas Cancer Organoid Profiling\n",
       "17  phs001628              Clinical Crenolanib Resistance in AML\n",
       "14  phs001657  Functional Genomic Landscape of Acute Myeloid ...\n",
       "20  phs001713                               LCCC 1108 (UNCseqTM)\n",
       "19  phs001714  Kids First: Genomic Analysis of Treatment Fail...\n",
       "18  phs001738  Kids First: Familial Predisposition to Hematop...\n",
       "28  phs002409                            FHIR Test Study's ALPHA"
      ]
     },
     "execution_count": 6,
     "metadata": {},
     "output_type": "execute_result"
    }
   ],
   "source": [
    "sdict = []\n",
    "for s in studies:\n",
    "    sdict.append({'id':s['id'], 'title':s['title']})\n",
    "\n",
    "\n",
    "import pandas as pd\n",
    "\n",
    "df = pd.DataFrame.from_dict(sdict)\n",
    "df.sort_values(by=['id'])"
   ]
  },
  {
   "cell_type": "markdown",
   "id": "3c61c42e",
   "metadata": {},
   "source": [
    "🖐 If of interest obtain two different TSTs and run the same query and add steps here compare the results you get."
   ]
  },
  {
   "cell_type": "code",
   "execution_count": null,
   "id": "b79428d4",
   "metadata": {},
   "outputs": [],
   "source": []
  },
  {
   "cell_type": "markdown",
   "id": "6eb2d137",
   "metadata": {},
   "source": [
    "### Look at COPDGene study details\n",
    "\n",
    "Returning to the COPDGene study phs000179"
   ]
  },
  {
   "cell_type": "markdown",
   "id": "2b6b2e7d",
   "metadata": {},
   "source": [
    "### Retrieving Observations for Subjects in the study\n",
    "We take the same approach as in notebook 3.\n",
    "\n",
    "Because we have 10368 subjects, in the interests of time the for loop steps through every 100th subject. \n",
    "This will still take several minutes to retrieve all the results.\n",
    "\n",
    "Note: more efficient ways of retrieiving the data are being explored. Feedback from users of these notebooks is encouraged to drive what features of the API would be useful. The slower methods here are useful for now as they allow us all to develop familiarity with the data, and to understand what API features would be most useful to work with the data. "
   ]
  },
  {
   "cell_type": "code",
   "execution_count": 7,
   "id": "7ac54d92",
   "metadata": {},
   "outputs": [
    {
     "data": {
      "application/vnd.jupyter.widget-view+json": {
       "model_id": "07387987afbf452fbe5c3e65b5dcf07d",
       "version_major": 2,
       "version_minor": 0
      },
      "text/plain": [
       "IntProgress(value=0, max=10368)"
      ]
     },
     "metadata": {},
     "output_type": "display_data"
    },
    {
     "name": "stdout",
     "output_type": "stream",
     "text": [
      "104 patients had observations\n",
      "25085 total observations\n"
     ]
    }
   ],
   "source": [
    "from ipywidgets import IntProgress\n",
    "from IPython.display import display\n",
    "\n",
    "prog = IntProgress(min=0, max=len(patients)) # instantiate the bar\n",
    "display(prog) # display the bar\n",
    "\n",
    "increment = 100\n",
    "\n",
    "all_obs = []\n",
    "patients_with_obs = []\n",
    "for p in patients[10:len(patients):increment]:\n",
    "    obs = mf.run_query(f\"Observation?subject={p['id']}\", show_stats=False)\n",
    "    if len(obs)>0:\n",
    "            all_obs += obs\n",
    "            patients_with_obs.append(p)\n",
    "    prog.value += increment\n",
    "print(f\"{len(patients_with_obs)} patients had observations\")\n",
    "print(f\"{len(all_obs)} total observations\")\n"
   ]
  },
  {
   "cell_type": "markdown",
   "id": "5413c913",
   "metadata": {},
   "source": [
    "### Create a Dataframe\n",
    "Use the same approach as in Notebook 3 to create a Dataframe where each row is a Subject and each column is an Observation"
   ]
  },
  {
   "cell_type": "code",
   "execution_count": 8,
   "id": "109cf199",
   "metadata": {
    "scrolled": true
   },
   "outputs": [
    {
     "name": "stdout",
     "output_type": "stream",
     "text": [
      "Number of patients with observations 104\n"
     ]
    }
   ],
   "source": [
    "import pandas as pd\n",
    "from collections import Counter\n",
    "\n",
    "\n",
    "patient_observations_dict = {}\n",
    "variable_definitions = {}\n",
    "observations = []\n",
    "obsCounter  = Counter()\n",
    "codeCounter = Counter()\n",
    "printObsCounts = False\n",
    "rlimit = 20\n",
    "nn = 0\n",
    "for r in all_obs:\n",
    "\n",
    "    if r['resourceType'] == 'Observation':\n",
    "        subject_id = r['subject']['reference']\n",
    "        obsCounter[subject_id] +=1\n",
    "        obs_display_name = r['code']['coding'][0]['display']\n",
    "        if 'valueQuantity' in r:\n",
    "            value_text = r['valueQuantity']['value']\n",
    "        elif 'valueCodeableConcept' in r:\n",
    "             value_text = r['valueCodeableConcept']['coding'][0]['display']\n",
    "        else:\n",
    "            value_text = 'unknown'\n",
    "        codeCounter[obs_display_name] +=1\n",
    "        observations.append(r)\n",
    "        \n",
    "        if subject_id not in patient_observations_dict:\n",
    "            patient_observations_dict[subject_id] = {obs_display_name: value_text}\n",
    "        else:\n",
    "            patient_observations_dict[subject_id][obs_display_name] = value_text\n",
    "            \n",
    "        var_def =  {\"extension\": r['extension'], \"code\":r['code']}\n",
    "        if obs_display_name not in variable_definitions:\n",
    "            variable_definitions[obs_display_name] = var_def\n",
    "\n",
    "\n",
    "\n",
    "#Summarize\n",
    "print(f\"Number of patients with observations {len(obsCounter.keys())}\")\n",
    "\n",
    "if printObsCounts:\n",
    "    print(\"Observation count per patient\")\n",
    "    print(json.dumps(obsCounter, indent=3))\n",
    "\n",
    "df = pd.DataFrame.from_dict(codeCounter,  orient='index')\n",
    "pd.set_option(\"display.max_rows\", 30, \"display.max_columns\", None)\n",
    "patient_df = pd.DataFrame.from_dict(patient_observations_dict, orient='index')\n",
    "\n"
   ]
  },
  {
   "cell_type": "markdown",
   "id": "886a6f8c",
   "metadata": {},
   "source": [
    "The resulting dataframe is not displayed here because it contains the subject level data which is under access control.\n",
    "\n",
    "The following are some summarizations that are possible.\n",
    "\n",
    "It is beyond the scope of this tutorial to teach the use of matplotlib, numpy and other data science packages commonly used in Jupyter.\n",
    "\n",
    "📘 See https://matplotlib.org"
   ]
  },
  {
   "cell_type": "markdown",
   "id": "4b14794a",
   "metadata": {},
   "source": [
    "### Plot summary data for a variable\n",
    "\n",
    "(Note: if you are using a study other than phs000179 it will be necessary to substitute different variable names in the examples that follow. The variables become the column names of the Dataframe created above. Review the Dataframe, along with the dbGaP pages for the study, for suitable variables)"
   ]
  },
  {
   "cell_type": "code",
   "execution_count": 10,
   "id": "a9a0f799",
   "metadata": {},
   "outputs": [
    {
     "data": {
      "image/png": "[encoded data removed]",
      "text/plain": [
       "<Figure size 864x216 with 1 Axes>"
      ]
     },
     "metadata": {
      "needs_background": "light"
     },
     "output_type": "display_data"
    }
   ],
   "source": [
    "import numpy as np\n",
    "from matplotlib.ticker import PercentFormatter\n",
    "import matplotlib.pyplot as plt\n",
    "\n",
    "var_name = 'FEV1_FVC_pre'\n",
    "\n",
    "fig = plt.figure(figsize=(12,3))\n",
    "ax = fig.gca()\n",
    "\n",
    "plt.hist(patient_df[var_name], \n",
    "         bins=18,\n",
    "         weights=np.ones(len(patient_df)) / len(patient_df), \n",
    "         edgecolor='black')\n",
    "plt.gca().yaxis.set_major_formatter(PercentFormatter(1))\n",
    "plt.show()"
   ]
  },
  {
   "cell_type": "markdown",
   "id": "e03f431b",
   "metadata": {},
   "source": [
    "This histogram is similar to those provided on the dbGaP variable report pages. \n",
    "\n",
    "📘 For comparison, the dbGaP variable page for the FEV1/FVC ratio in this study is available [here](https://www.ncbi.nlm.nih.gov/projects/gap/cgi-bin/variable.cgi?study_id=phs000179.v6.p2&phv=159855). \n",
    "\n",
    "Use of the data analysis capabilities in Jupyter allows you to plot other selections of data besides those pre-computed on the dbGaP pages.\n",
    "\n",
    "* Note that as we retrieved a subset of the patients the graph will not be identical to those on the variable page\n",
    "\n",
    "#### Summary (descriptive) statistics \n",
    "Summary statistics similar to those on the variable pages can be obtained using simple Pandas fucntions. For example:"
   ]
  },
  {
   "cell_type": "code",
   "execution_count": 14,
   "id": "7c71fd4c",
   "metadata": {
    "scrolled": true
   },
   "outputs": [
    {
     "name": "stdout",
     "output_type": "stream",
     "text": [
      "       FEV1_FVC_pre\n",
      "count    101.000000\n",
      "mean       0.646040\n",
      "std        0.174677\n",
      "min        0.250000\n",
      "25%        0.540000\n",
      "50%        0.700000\n",
      "75%        0.780000\n",
      "max        0.920000\n"
     ]
    }
   ],
   "source": [
    "print(patient_df[['FEV1_FVC_pre']].describe())"
   ]
  },
  {
   "cell_type": "markdown",
   "id": "3774b4b0",
   "metadata": {},
   "source": [
    "### Plotting your own variable histograms\n",
    "\n",
    "The following function allows us to plot the frequency distribution of any variable, using any other variable to group the plots."
   ]
  },
  {
   "cell_type": "code",
   "execution_count": 49,
   "id": "99623144",
   "metadata": {},
   "outputs": [],
   "source": [
    "def plot_dbgap_var(var_name, covariate, df=None):\n",
    "    \n",
    "    if not type(df) == pd.core.frame.DataFrame:\n",
    "        df = patient_df\n",
    "    #fig = plt.figure(figsize=(12,3))\n",
    "    plt.rcParams['figure.figsize'] = [12, 3]\n",
    "    #ax = fig.gca()\n",
    "    plt.gca().yaxis.set_major_formatter(PercentFormatter(1))\n",
    "    covariate_vals = df[covariate].unique().tolist()\n",
    "    for c in covariate_vals:\n",
    "        cdf = df.loc[df[covariate] == c, var_name]\n",
    "        plt.hist(cdf, alpha=0.5, label=c,\n",
    "                weights=np.ones(len(cdf)) / len(patient_df))\n",
    "\n",
    "    #add plot title and axis labels\n",
    "    plt.title(f'{var_name} Distribution by {covariate}')\n",
    "    plt.xlabel(var_name)\n",
    "    plt.ylabel('Frequency')\n",
    "    \n",
    "    #add legend\n",
    "    plt.legend(title=covariate)\n",
    "\n",
    "    #display plot\n",
    "    plt.show()"
   ]
  },
  {
   "cell_type": "markdown",
   "id": "c8de47e2",
   "metadata": {},
   "source": [
    "### Plotting different variables\n",
    "\n",
    "The function created above is used here to plot FEV1/FVC ratio by whether the patient is affected by the disease. We'll start as simple as possible, before exploring the metadata dbGaP makes available to improve the plots. \n"
   ]
  },
  {
   "cell_type": "code",
   "execution_count": 50,
   "id": "74e54250",
   "metadata": {
    "scrolled": true
   },
   "outputs": [
    {
     "data": {
      "image/png": "[encoded data removed]",
      "text/plain": [
       "<Figure size 864x216 with 1 Axes>"
      ]
     },
     "metadata": {
      "needs_background": "light"
     },
     "output_type": "display_data"
    }
   ],
   "source": [
    "plot_dbgap_var('FEV1_FVC_pre', 'AFFECTION_STATUS')"
   ]
  },
  {
   "cell_type": "markdown",
   "id": "e0917ba8",
   "metadata": {},
   "source": [
    "📘 The [variable page](https://www.ncbi.nlm.nih.gov/projects/gap/cgi-bin/variable.cgi?study_id=phs000179.v6.p2&phv=159563) for this Affection Status tells us the values mean\n",
    "* 1- Case\n",
    "* 2- Control\n",
    "* 3- Other\n",
    "* 4- Exclusionary Disease\n",
    "\n",
    "Note: in this notebook manual methods are used to find out this information (metadata) about the variables in a dataset. There are machine readable sources of these metadata, and approaches to working with them which will be discussed. "
   ]
  },
  {
   "cell_type": "code",
   "execution_count": 51,
   "id": "1a7b136e",
   "metadata": {},
   "outputs": [
    {
     "data": {
      "image/png": "[encoded data removed]",
      "text/plain": [
       "<Figure size 864x216 with 1 Axes>"
      ]
     },
     "metadata": {
      "needs_background": "light"
     },
     "output_type": "display_data"
    }
   ],
   "source": [
    "# Create a dictionary key-value pairs to translate Affection status to something meaningful.\n",
    "affection_status_map = {'1' : 'COPD Case', '2' : 'Controls'}\n",
    "\n",
    "# subset the data for only cases and controls \n",
    "sub_df = patient_df.loc[patient_df['AFFECTION_STATUS'].isin(['1','2'])]\n",
    "\n",
    "# Use our dictionary to translate affection status \n",
    "sub_df = sub_df.replace({\"AFFECTION_STATUS\": affection_status_map})\n",
    "\n",
    "# Plot the new dataframe\n",
    "plot_dbgap_var('FEV1_FVC_pre', 'AFFECTION_STATUS', df=sub_df)"
   ]
  },
  {
   "cell_type": "markdown",
   "id": "97f4bda3",
   "metadata": {},
   "source": [
    "The fact that cases divide from controls is likely a reflection of the fact that FEV1/FVC ratio is used as a diagnostic criterion for COPD. The cutoff seems to be at a value of approximately 0.64. That there are subjects designated with ratios in the 0.7-0.8 range indicates that the FEV1/FVC ratio was not the only reason why a subject was diagnosed as a COPD case.\n",
    "\n",
    "#### What have we learnt?\n",
    "One might say the example above teaches us nothing new - the reason patients were diagnosed as COPD cases was because they had a low FEV1/FVC ratio.\n",
    "\n",
    "While we may have learned nothing new from a biological point of view, one key aim of these tutorials is to learn how the dbGaP API interoprates with standard data science tools enables exploration of data.\n",
    "\n",
    "#### Looking for more biological insight\n",
    "The interoperability of dbGaP and Python tools allows more flexibility than the limited range of reports or graphs that one could expect dbGaP to provide for common 'use cases'. \n",
    "\n",
    "Here's an example where we can use that flexibility to explore a question where the answer is less obvious than in our previous example. Here the variable plotted (oxygen saturation) is less confounded with the grouping variable.\n",
    "\n",
    "The oxygen saturation shows a wider range in COPD cases, but many are in the higher range found in the controls.\n",
    "\n"
   ]
  },
  {
   "cell_type": "code",
   "execution_count": 52,
   "id": "72a9807e",
   "metadata": {
    "scrolled": true
   },
   "outputs": [
    {
     "data": {
      "image/png": "[encoded data removed]",
      "text/plain": [
       "<Figure size 864x216 with 1 Axes>"
      ]
     },
     "metadata": {
      "needs_background": "light"
     },
     "output_type": "display_data"
    }
   ],
   "source": [
    "plot_dbgap_var('Resting_SaO2', 'AFFECTION_STATUS', df=sub_df)"
   ]
  },
  {
   "cell_type": "markdown",
   "id": "16711495",
   "metadata": {},
   "source": [
    "🖐 The few controls with low oxygen saturations are interesting. There is always more to explore in a dataset. How could you investigate that using these tools and data?"
   ]
  },
  {
   "cell_type": "markdown",
   "id": "91e55b49",
   "metadata": {},
   "source": [
    "🖐 Rather than the overlapped plots above, dbGaP variable pages plot the frequency distributions for each subgroup as separate histograms. According to need, that might be more suitable. You may wish to explore how a different version of the plot_dbgap_var function above could emulate the layout on the dbGaP variable pages. \n",
    "\n",
    "🖐 One of the machine readable dictionaries for the data from COPDGene provides the values of the codes for affection status. The dictionary is available at [this link](https://ftp.ncbi.nlm.nih.gov/dbgap/studies/phs000179/phs000179.v6.p2/pheno_variable_summaries/phs000179.v6.pht002237.v3.COPDGene_Subject.data_dict.xml). How might that machine readable metadata be used to automate the manual lookup of variable details that was used above?\n",
    "\n",
    "If you do any of the above you might also consider submitting it to this GitHub repository."
   ]
  },
  {
   "cell_type": "markdown",
   "id": "3171d51e",
   "metadata": {},
   "source": [
    "### Making it interactive\n",
    "\n",
    "The approaches above still relied on writing code to plot each variable combination of interest. If you want to explore many variable relationships you could plot them individually or make use of iPython's interactive features as in the following example.\n"
   ]
  },
  {
   "cell_type": "markdown",
   "id": "95f17119",
   "metadata": {},
   "source": [
    "The following step retrieves lists of variables that will be used in our interactive interface"
   ]
  },
  {
   "cell_type": "code",
   "execution_count": 19,
   "id": "9dab3185",
   "metadata": {},
   "outputs": [],
   "source": [
    "import json\n",
    "with open(\"data/COPDGene_interactive_vars.json\") as f:\n",
    "    ivars = json.load(f)\n",
    "varlist = ivars['dependent_vars']\n",
    "independent_vars = ivars['independent_vars']"
   ]
  },
  {
   "cell_type": "code",
   "execution_count": 20,
   "id": "ef6cd669",
   "metadata": {},
   "outputs": [
    {
     "data": {
      "application/vnd.jupyter.widget-view+json": {
       "model_id": "c144c9b3d5d34d5997758b95e8a97979",
       "version_major": 2,
       "version_minor": 0
      },
      "text/plain": [
       "interactive(children=(Dropdown(description='Variable', options=('PEF_post', 'diasBP', 'HR', 'O2_Therapy', 'O2_…"
      ]
     },
     "metadata": {},
     "output_type": "display_data"
    }
   ],
   "source": [
    "import ipywidgets as widgets\n",
    "from ipywidgets import interact, interact_manual\n",
    "from IPython.display import Image, display\n",
    "from io import BytesIO\n",
    "\n",
    "vars = patient_df.columns.tolist()\n",
    "@interact\n",
    "def var_selector(varname=widgets.Dropdown(options = varlist, description = \"Variable\"),\n",
    "                covariate=widgets.Dropdown(options = independent_vars, description = \"Group by\")\n",
    "                ):\n",
    "    plot_dbgap_var(varname, covariate)"
   ]
  },
  {
   "cell_type": "markdown",
   "id": "7f6ad21f",
   "metadata": {},
   "source": [
    "### Visualization\n",
    "Use a heatmap to show a high level view of the observation by patient table"
   ]
  },
  {
   "cell_type": "code",
   "execution_count": 21,
   "id": "52865e3d",
   "metadata": {},
   "outputs": [],
   "source": [
    "# create dataframe\n",
    "heatmap_df = pd.DataFrame.from_dict(patient_observations_dict, orient='index')\n",
    "# convert to 0,1 based on whether null or not\n",
    "df2 = heatmap_df.notnull().astype(\"int\")\n"
   ]
  },
  {
   "cell_type": "code",
   "execution_count": 22,
   "id": "71a530a8",
   "metadata": {},
   "outputs": [],
   "source": [
    "import matplotlib\n",
    "\n",
    "def observation_heat_map(plot_df, study_label):\n",
    "    cmap = matplotlib.colors.ListedColormap(['xkcd:eggshell', 'green'])\n",
    "    #fig, ax = plt.subplots(figsize=(10,5), layout='constrained')\n",
    "    fig, ax = plt.subplots(figsize=(10,5))\n",
    "    ax.imshow(plot_df, cmap='Greens')\n",
    "    ax.set_xlabel('Observation')\n",
    "    ax.set_ylabel('Subject')\n",
    "    ax.set_title(f'Observations present per subject in {study_label}')\n"
   ]
  },
  {
   "cell_type": "code",
   "execution_count": 23,
   "id": "8265e30b",
   "metadata": {},
   "outputs": [
    {
     "data": {
      "image/png": "[encoded data removed]",
      "text/plain": [
       "<Figure size 720x360 with 1 Axes>"
      ]
     },
     "metadata": {
      "needs_background": "light"
     },
     "output_type": "display_data"
    }
   ],
   "source": [
    "observation_heat_map(df2, study_id)"
   ]
  },
  {
   "cell_type": "code",
   "execution_count": null,
   "id": "7474ef9a",
   "metadata": {},
   "outputs": [],
   "source": []
  },
  {
   "cell_type": "code",
   "execution_count": null,
   "id": "8ba12f67",
   "metadata": {},
   "outputs": [],
   "source": []
  }
 ],
 "metadata": {
  "kernelspec": {
   "display_name": "Python 3 (ipykernel)",
   "language": "python",
   "name": "python3"
  },
  "language_info": {
   "codemirror_mode": {
    "name": "ipython",
    "version": 3
   },
   "file_extension": ".py",
   "mimetype": "text/x-python",
   "name": "python",
   "nbconvert_exporter": "python",
   "pygments_lexer": "ipython3",
   "version": "3.9.7"
  }
 },
 "nbformat": 4,
 "nbformat_minor": 5
}
